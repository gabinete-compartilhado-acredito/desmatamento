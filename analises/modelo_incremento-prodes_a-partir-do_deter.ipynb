{
 "cells": [
  {
   "cell_type": "markdown",
   "metadata": {},
   "source": [
    "# Relacionando Deter e Prodes"
   ]
  },
  {
   "cell_type": "code",
   "execution_count": 1,
   "metadata": {},
   "outputs": [],
   "source": [
    "import pandas as pd\n",
    "import matplotlib.pyplot as pl\n",
    "import numpy as np\n",
    "\n",
    "import prodes as pr\n",
    "import utils as xu"
   ]
  },
  {
   "cell_type": "markdown",
   "metadata": {},
   "source": [
    "## Funções"
   ]
  },
  {
   "cell_type": "code",
   "execution_count": 2,
   "metadata": {},
   "outputs": [],
   "source": [
    "def add_deflorestation_frac(df):\n",
    "    \"\"\"\n",
    "    Compute the ratio between deflorested\n",
    "    area and original florest area for Prodes\n",
    "    and Deter estimates and add both as \n",
    "    columns.\n",
    "    \"\"\"\n",
    "    df['frac_incremento'] = df['Incremento'] / df['Desmatavel']\n",
    "    df['frac_area_deter'] = df['area_deter'] / df['Desmatavel']\n",
    "    \n",
    "    return df"
   ]
  },
  {
   "cell_type": "code",
   "execution_count": 3,
   "metadata": {},
   "outputs": [],
   "source": [
    "def estimate_model_error(model, prodes_deter_uf_anual, \n",
    "                         area_cols=['Incremento', 'AreaKm2', 'Desmatado', 'Floresta', 'Nuvem', 'NaoObservado', 'NaoFloresta', 'Hidrografia', 'Desmatavel', 'Disponivel', 'area_deter']):\n",
    "\n",
    "    test_scores  = []\n",
    "    train_scores = []\n",
    "    area_br = prodes_deter_uf_anual.groupby('ano_prodes')['Desmatavel'].sum().mean()\n",
    "    measured_years = prodes_deter_uf_anual['ano_prodes'].unique()\n",
    "\n",
    "    for yr in measured_years:\n",
    "\n",
    "        # Get other years as training:\n",
    "        train_yr_df = prodes_deter_uf_anual.loc[prodes_deter_uf_anual['ano_prodes'] != yr]\n",
    "        test_yr_df  = prodes_deter_uf_anual.loc[prodes_deter_uf_anual['ano_prodes'] == yr]\n",
    "        # Get one year as test, and aggregate it:\n",
    "        test_yr_df = test_yr_df.groupby('ano_prodes')[area_cols].sum()\n",
    "        test_yr_df['frac_area_deter'] = test_yr_df['area_deter'] / area_br\n",
    "        test_yr_df['frac_incremento'] = test_yr_df['Incremento'] / area_br\n",
    "\n",
    "        # Get variables:\n",
    "        X_train = train_yr_df[['frac_area_deter']].values\n",
    "        y_train = train_yr_df['frac_incremento'].values\n",
    "        X_test  = test_yr_df[['frac_area_deter']].values\n",
    "        y_test  = test_yr_df['Incremento'].values\n",
    "\n",
    "        # Fit & predict:\n",
    "        w = train_yr_df['weight']\n",
    "        dump = model.fit(X_train, y_train, fit__sample_weight=w)\n",
    "        y_train_pred = model.predict(X_train)\n",
    "        y_test_pred  = model.predict(X_test) * area_br\n",
    "\n",
    "        # Save score:\n",
    "        train_scores.append(mean_squared_error(y_train * area_br, y_train_pred * area_br, squared=False))\n",
    "        test_scores.append(mean_squared_error(y_test, y_test_pred))\n",
    "\n",
    "    model_error = np.sqrt(np.mean(test_scores))\n",
    "    return model_error"
   ]
  },
  {
   "cell_type": "markdown",
   "metadata": {},
   "source": [
    "## Carregando dados"
   ]
  },
  {
   "cell_type": "code",
   "execution_count": 4,
   "metadata": {},
   "outputs": [],
   "source": [
    "# Carregando dados de desmatamento do Prodes:\n",
    "prodes_df = pr.etl_prodes_data('../dados/brutos/desmatamento/prodes/prodes_DesmatamentoMunicipios', 2010, 2020)\n",
    "\n",
    "# Agregando dados do desmatamento por UF:\n",
    "prodes_uf = prodes_df.groupby(['Estado', 'Ano'])[pr.areas_col].sum()\n",
    "prodes_uf = prodes_uf.reset_index()\n",
    "prodes_uf.rename({'Estado': 'UF', 'Ano': 'ano_prodes'}, axis=1, inplace=True)\n",
    "\n",
    "# Agregando dados no Brasil:\n",
    "prodes_br = prodes_df.groupby(['Ano'])[pr.areas_col].sum()\n",
    "prodes_br = prodes_br.reset_index()\n",
    "prodes_br.rename({'Estado': 'UF', 'Ano': 'ano_prodes'}, axis=1, inplace=True)"
   ]
  },
  {
   "cell_type": "code",
   "execution_count": 5,
   "metadata": {},
   "outputs": [],
   "source": [
    "# Carregando dados do Deter:\n",
    "deter_ref = pd.read_csv('../dados/brutos/desmatamento/terrabrasilis_deter/deter_desmatamento_ano-referencia_2021-08-19.csv')\n",
    "deter_ref['ano_prodes'] = deter_ref['year'].str.extract('/(\\d{4})', expand=False).astype(int)\n",
    "deter_ref = deter_ref.loc[~deter_ref['uf'].isnull()]"
   ]
  },
  {
   "cell_type": "markdown",
   "metadata": {},
   "source": [
    "### Modelo anual"
   ]
  },
  {
   "cell_type": "code",
   "execution_count": 6,
   "metadata": {},
   "outputs": [],
   "source": [
    "# Agregado anual:\n",
    "deter_uf_agg = deter_ref.groupby(['uf', 'ano_prodes'])['area'].sum().reset_index()\n",
    "deter_uf_agg.rename({'uf': 'UF', 'area': 'area_deter'}, axis=1, inplace=True)\n",
    "deter_br_agg = deter_ref.groupby(['ano_prodes'])['area'].sum().reset_index()\n",
    "deter_br_agg.rename({'uf': 'UF', 'area': 'area_deter'}, axis=1, inplace=True)"
   ]
  },
  {
   "cell_type": "code",
   "execution_count": 7,
   "metadata": {},
   "outputs": [],
   "source": [
    "# Junta os dados:\n",
    "prodes_deter_uf_anual = prodes_uf.merge(deter_uf_agg, how='left', on=['ano_prodes', 'UF'])\n",
    "prodes_deter_uf_anual = prodes_deter_uf_anual.loc[prodes_deter_uf_anual['ano_prodes'] >= deter_uf_agg['ano_prodes'].min()]\n",
    "prodes_deter_br_anual = prodes_br.merge(deter_br_agg, how='left', on='ano_prodes')\n",
    "prodes_deter_br_anual = prodes_deter_br_anual.loc[prodes_deter_br_anual['ano_prodes'] >= deter_br_agg['ano_prodes'].min()]\n",
    "\n",
    "# Calcula desmatamento em termos da área desmatável do estado:\n",
    "prodes_deter_uf_anual = add_deflorestation_frac(prodes_deter_uf_anual)\n",
    "prodes_deter_br_anual = add_deflorestation_frac(prodes_deter_br_anual)\n",
    "\n",
    "# Adiciona pesos (para o ajuste linear) na base de dados:\n",
    "prodes_deter_uf_anual['weight'] = (prodes_deter_uf_anual['Desmatavel'] ** 2) / prodes_deter_uf_anual['Incremento'] / 1e7\n",
    "\n",
    "# Fill missing Deter data:\n",
    "prodes_deter_uf_anual.fillna(0, inplace=True)\n",
    "\n",
    "area_cols = ['Incremento', 'AreaKm2', 'Desmatado', 'Floresta', 'Nuvem', 'NaoObservado', 'NaoFloresta', 'Hidrografia', 'Desmatavel', 'Disponivel', 'area_deter']"
   ]
  },
  {
   "cell_type": "markdown",
   "metadata": {},
   "source": [
    "#### Modelo linear para as UFs"
   ]
  },
  {
   "cell_type": "code",
   "execution_count": 8,
   "metadata": {},
   "outputs": [],
   "source": [
    "from sklearn.linear_model import LinearRegression\n",
    "from sklearn.preprocessing import PolynomialFeatures\n",
    "from sklearn.pipeline import Pipeline\n",
    "from sklearn.model_selection import GridSearchCV, LeaveOneOut\n",
    "from sklearn.metrics import mean_squared_error"
   ]
  },
  {
   "cell_type": "code",
   "execution_count": 9,
   "metadata": {},
   "outputs": [],
   "source": [
    "# Cria modelo:\n",
    "model = LinearRegression(fit_intercept=True, normalize=False)\n",
    "poly  = PolynomialFeatures(degree=2, include_bias=False)\n",
    "model = Pipeline([('poly', poly), ('fit', model)])"
   ]
  },
  {
   "cell_type": "code",
   "execution_count": 10,
   "metadata": {},
   "outputs": [
    {
     "name": "stdout",
     "output_type": "stream",
     "text": [
      "Test score: 1542.3\n"
     ]
    }
   ],
   "source": [
    "# Cross-validation para estimar o erro:\n",
    "model_error = estimate_model_error(model, prodes_deter_uf_anual)\n",
    "print('Test score: {:.1f}'.format(model_error))"
   ]
  },
  {
   "cell_type": "code",
   "execution_count": 11,
   "metadata": {},
   "outputs": [
    {
     "data": {
      "image/png": "[encoded data removed]",
      "text/plain": [
       "<Figure size 504x360 with 1 Axes>"
      ]
     },
     "metadata": {
      "needs_background": "light"
     },
     "output_type": "display_data"
    }
   ],
   "source": [
    "# Fit the model to all available data:\n",
    "X = prodes_deter_uf_anual[['frac_area_deter']].values\n",
    "y = prodes_deter_uf_anual['frac_incremento'].values\n",
    "w = prodes_deter_uf_anual['weight']\n",
    "model.fit(X, y, fit__sample_weight=w)\n",
    "\n",
    "# Predict:\n",
    "area_br = prodes_deter_uf_anual.groupby('ano_prodes')['Desmatavel'].sum().mean()\n",
    "X_pred  = deter_br_agg.loc[deter_br_agg['ano_prodes'] == 2021, ['area_deter']].values / area_br\n",
    "y_pred  = model.predict(X_pred)\n",
    "\n",
    "pl.figure(figsize=(7,5))\n",
    "\n",
    "# Plot model:\n",
    "X_model = np.linspace(X.min(), X.max(), 50).reshape(-1,1)\n",
    "y_model = model.predict(X_model)\n",
    "pl.plot(X_model[:, 0] * area_br, y_model * area_br, color='k', linewidth=1, label='Modelo')\n",
    "\n",
    "# Plot Brazil data:\n",
    "pl.scatter(prodes_deter_br_anual['area_deter'], prodes_deter_br_anual['Incremento'], color='g', alpha=0.4, s=100, marker='*', label='Brasil')\n",
    "text_yoffset = [0, 1000, 1800, 1500, 0]\n",
    "for tx, ty, tt, to in zip(prodes_deter_br_anual['area_deter'], prodes_deter_br_anual['Incremento'], prodes_deter_br_anual['ano_prodes'], text_yoffset):\n",
    "    pl.text(tx, ty + to, '  ' + str(tt), color='g', va='top')\n",
    "\n",
    "# Plot UF data:\n",
    "pl.scatter(prodes_deter_uf_anual['frac_area_deter'] * area_br, prodes_deter_uf_anual['frac_incremento'] * area_br, color='lightgray', alpha=0.5, s=prodes_deter_uf_anual['Desmatavel'] / 10000, label='UFs (proj.)')\n",
    "\n",
    "# Plot Prediction:\n",
    "pl.errorbar(X_pred[:, 0] * area_br, y_pred * area_br, yerr=model_error, color='r', marker=None, alpha=0.4, markersize=10)\n",
    "pl.scatter(X_pred[:, 0] * area_br, y_pred * area_br, color='r', alpha=0.4, s=100, marker='*', label='2021')\n",
    "    \n",
    "\n",
    "pl.tick_params(labelsize=14)\n",
    "pl.xlabel('Aviso de desmatamento Deter ($\\mathrm{km^2}$)', fontsize=14)\n",
    "pl.ylabel('Incremento de destatamento\\nProdes ($\\mathrm{km^2}$)', fontsize=14)\n",
    "pl.legend(fontsize=12)\n",
    "pl.tight_layout()\n",
    "#pl.savefig('../resultados/plots/modelo_traducao_deter_prodes.png')\n",
    "pl.show()"
   ]
  },
  {
   "cell_type": "code",
   "execution_count": 12,
   "metadata": {},
   "outputs": [
    {
     "data": {
      "image/png": "[encoded data removed]",
      "text/plain": [
       "<Figure size 432x288 with 1 Axes>"
      ]
     },
     "metadata": {
      "needs_background": "light"
     },
     "output_type": "display_data"
    }
   ],
   "source": [
    "pl.title('Proj. p/ 2021: {:.0f} +/- {:.0f} km$^2$ ($1\\sigma$)'.format(y_pred[0] * area_br, model_error), fontsize=14)\n",
    "pl.bar(prodes_br['ano_prodes'], prodes_br['Incremento'], color='g', alpha=0.5, label='Prodes')\n",
    "pl.bar([2021], y_pred * area_br, color='firebrick', alpha=0.5, label='Projeção')\n",
    "pl.errorbar([2021], y_pred * area_br, yerr=model_error, color='firebrick')\n",
    "pl.tick_params(labelsize=14)\n",
    "pl.ylabel('Incremento de\\ndesmatamento ($\\mathrm{km^2}$)', fontsize=14)\n",
    "pl.legend(fontsize=12)\n",
    "pl.xlabel('Ano Prodes', fontsize=14)\n",
    "pl.tight_layout()\n",
    "#pl.savefig('../resultados/plots/projecao_desmatamento_2021_deter_para_prodes.png')\n",
    "pl.show()"
   ]
  },
  {
   "cell_type": "markdown",
   "metadata": {},
   "source": [
    "#### Modelo linear para o Brasil todo"
   ]
  },
  {
   "cell_type": "code",
   "execution_count": 12,
   "metadata": {},
   "outputs": [],
   "source": [
    "from sklearn.linear_model import LinearRegression\n",
    "from sklearn.model_selection import GridSearchCV, LeaveOneOut\n",
    "from sklearn.metrics import mean_squared_error"
   ]
  },
  {
   "cell_type": "code",
   "execution_count": 13,
   "metadata": {},
   "outputs": [],
   "source": [
    "# Cria modelo:\n",
    "model = LinearRegression(fit_intercept=True, normalize=False)"
   ]
  },
  {
   "cell_type": "code",
   "execution_count": 14,
   "metadata": {},
   "outputs": [],
   "source": [
    "# Select data:\n",
    "X = prodes_deter_br_anual[['area_deter']].values\n",
    "y = prodes_deter_br_anual['Incremento'].values"
   ]
  },
  {
   "cell_type": "code",
   "execution_count": 15,
   "metadata": {},
   "outputs": [
    {
     "name": "stdout",
     "output_type": "stream",
     "text": [
      "Train score: 762.3   Test score: 2114.2\n"
     ]
    }
   ],
   "source": [
    "# Cross-validation:\n",
    "train_scores = []\n",
    "test_scores  = []\n",
    "loo = LeaveOneOut()\n",
    "for train_index, test_index in loo.split(X):\n",
    "    # Split:\n",
    "    X_train, X_test = X[train_index], X[test_index]\n",
    "    y_train, y_test = y[train_index], y[test_index]\n",
    "    # Fit & predict:\n",
    "    model.fit(X_train, y_train)\n",
    "    y_train_pred = model.predict(X_train)\n",
    "    y_test_pred  = model.predict(X_test)\n",
    "    train_scores.append(mean_squared_error(y_train, y_train_pred, squared=False))\n",
    "    test_scores.append(mean_squared_error(y_test, y_test_pred))\n",
    "    #print(\"TRAIN:\", train_index, \"TEST:\", test_index)\n",
    "\n",
    "train_score = np.mean(train_scores)\n",
    "test_score  = np.sqrt(np.mean(test_scores))\n",
    "\n",
    "print('Train score: {:.1f}   Test score: {:.1f}'.format(train_score, test_score))"
   ]
  },
  {
   "cell_type": "code",
   "execution_count": 16,
   "metadata": {},
   "outputs": [],
   "source": [
    "# Ajuste final:\n",
    "dump    = model.fit(X, y)\n",
    "y_model = model.predict(X)\n",
    "X_pred  = deter_br_agg.loc[deter_br_agg['ano_prodes'] == 2021, ['area_deter']].values\n",
    "y_pred  = model.predict(X_pred)"
   ]
  },
  {
   "cell_type": "code",
   "execution_count": 17,
   "metadata": {},
   "outputs": [
    {
     "data": {
      "image/png": "[encoded data removed]",
      "text/plain": [
       "<Figure size 432x288 with 1 Axes>"
      ]
     },
     "metadata": {
      "needs_background": "light"
     },
     "output_type": "display_data"
    }
   ],
   "source": [
    "# Plot dos resultados:\n",
    "pl.title('Desmatamento proj. p/ 2021: {:.0f} km$^2$'.format(y_pred[0]))\n",
    "pl.scatter(X[:, 0], y, alpha=0.5, color='b')\n",
    "pl.plot(X[:, 0], y_model, color='k', linewidth=1)\n",
    "pl.errorbar(X_pred, y_pred, yerr=test_score, marker='o', color='r', alpha=0.5)\n",
    "pl.tick_params(labelsize=14)\n",
    "pl.xlabel('Área desmatada Deter ($\\mathrm{km^2}$)', fontsize=14)\n",
    "pl.ylabel('Área desmatada Prodes ($\\mathrm{km^2}$)', fontsize=14)\n",
    "pl.show()"
   ]
  },
  {
   "cell_type": "code",
   "execution_count": 24,
   "metadata": {},
   "outputs": [
    {
     "name": "stdout",
     "output_type": "stream",
     "text": [
      "Test score: 2114.2\n"
     ]
    }
   ],
   "source": [
    "# Run grid search:\n",
    "param_grid = {'fit_intercept': [True], 'normalize': [False]}\n",
    "grid = GridSearchCV(model, param_grid, scoring='neg_mean_squared_error', cv=5, return_train_score=True)\n",
    "history = grid.fit(X, y)\n",
    "best_model = grid.best_estimator_\n",
    "prodes_deter_br_anual['prodes_pred'] = best_model.predict(X)\n",
    "best_model_error = np.sqrt(-grid.best_score_)\n",
    "print('Test score: {:.1f}'.format(best_model_error))"
   ]
  },
  {
   "cell_type": "code",
   "execution_count": 25,
   "metadata": {},
   "outputs": [
    {
     "data": {
      "image/png": "[encoded data removed]",
      "text/plain": [
       "<Figure size 432x288 with 1 Axes>"
      ]
     },
     "metadata": {
      "needs_background": "light"
     },
     "output_type": "display_data"
    }
   ],
   "source": [
    "# Plot dos resultados:\n",
    "pl.scatter(prodes_deter_br_anual['area_deter'], prodes_deter_br_anual['Incremento'], alpha=0.5, color='b')\n",
    "pl.plot(prodes_deter_br_anual['area_deter'], prodes_deter_br_anual['prodes_pred'], color='k', linewidth=1)\n",
    "pl.errorbar(deter_br_agg.loc[deter_br_agg['ano_prodes'] == 2021, 'area_deter'], \n",
    "            best_model.predict(deter_br_agg.loc[deter_br_agg['ano_prodes'] == 2021, ['area_deter']]), yerr=best_model_error, marker='o', color='r', alpha=0.5)\n",
    "pl.tick_params(labelsize=14)\n",
    "pl.xlabel('Área desmatada Deter ($\\mathrm{km^2}$)', fontsize=14)\n",
    "pl.ylabel('Área desmatada Prodes ($\\mathrm{km^2}$)', fontsize=14)\n",
    "pl.show()"
   ]
  },
  {
   "cell_type": "markdown",
   "metadata": {},
   "source": [
    "# Explorando dados do DETER (INPE)"
   ]
  },
  {
   "cell_type": "code",
   "execution_count": 101,
   "metadata": {},
   "outputs": [],
   "source": [
    "import pandas as pd\n",
    "import matplotlib.pyplot as pl\n",
    "\n",
    "import utils as xu"
   ]
  },
  {
   "cell_type": "markdown",
   "metadata": {},
   "source": [
    "O documento explicando a metodologia do acompanhamento do desmatamento pelo INPE pode ser encontrado aqui: <http://www.obt.inpe.br/OBT/assuntos/programas/amazonia/prodes/pdfs/Metodologia_Prodes_Deter_revisada.pdf>"
   ]
  },
  {
   "cell_type": "markdown",
   "metadata": {},
   "source": [
    "## Dados auxiliares (PRODES)"
   ]
  },
  {
   "cell_type": "code",
   "execution_count": 22,
   "metadata": {},
   "outputs": [],
   "source": [
    "prodes_terra = pd.read_csv('../dados/brutos/desmatamento/terrabrasilis_prodes/terrabrasilis_legal_amazon_2021-07-07.csv')"
   ]
  },
  {
   "cell_type": "markdown",
   "metadata": {},
   "source": [
    "## TerraBrasilis"
   ]
  },
  {
   "cell_type": "markdown",
   "metadata": {},
   "source": [
    "**Como obter os dados**\n",
    "\n",
    "Esses dados foram obtidos aqui: <http://terrabrasilis.dpi.inpe.br/app/dashboard/alerts/legal/amazon/aggregated/#>\n",
    "\n",
    "Basta clicar em \"Gráficos - Agregado Mensal: Amazônia Legal\" na barra lateral esquerda, escolher \"Avisos de desmatamento\", escolher \"Ano Civil\" ou \"Ano de referência\" no canto superior direito. Em seguida, clicar na opção \"Baixas dados\" da barra lateral e escolher a opção \"Com filtros\"."
   ]
  },
  {
   "cell_type": "markdown",
   "metadata": {},
   "source": [
    "**Notas explicativas** _(com base no documento de metodologia acima)_\n",
    "\n",
    "* Avisos de desmatamento são mais definitivos que avisos de degradação: os últimos podem depois virar os primeiros com o avanço da degradação. Por isso, vamos utilizar os avisos de desmatamento.\n",
    "* O chamado \"ano de referência\" começa em 01 de agosto de um ano civil e vai até o 31 de julho do ano civil seguinte. Esse é o ciclo de análise dos dados de desmatamento, que concentram a data de referência do desmatamento em um determinado ano naquela ondem existem maior quantidade de imagens sem nuvens, que é na seca. Por exemplo a taxa divulgada para o ano PRODES 2018 estima o desmatamento ocorrido entre 01/08/2017 e 31/07/2018."
   ]
  },
  {
   "cell_type": "markdown",
   "metadata": {},
   "source": [
    "### Carregando os dados"
   ]
  },
  {
   "cell_type": "code",
   "execution_count": 153,
   "metadata": {},
   "outputs": [],
   "source": [
    "deter_ref = pd.read_csv('../dados/brutos/desmatamento/terrabrasilis_deter/deter_desmatamento_ano-referencia_2021-07-07.csv')\n",
    "deter_civ = pd.read_csv('../dados/brutos/desmatamento/terrabrasilis_deter/deter_desmatamento_ano-civil_2021-07-07.csv')"
   ]
  },
  {
   "cell_type": "markdown",
   "metadata": {},
   "source": [
    "### Comparando taxas Deter c/ Prodes"
   ]
  },
  {
   "cell_type": "code",
   "execution_count": 154,
   "metadata": {},
   "outputs": [],
   "source": [
    "# Carrega tradutor estado -> sigla:\n",
    "uf_sigla_nome = pd.read_csv('../dados/brutos/aux/uf_siglas_nomes.csv')\n",
    "uf2sigla = dict(zip(uf_sigla_nome['uf'].str.upper(), uf_sigla_nome['sigla_uf']))"
   ]
  },
  {
   "cell_type": "code",
   "execution_count": 155,
   "metadata": {},
   "outputs": [],
   "source": [
    "# Agrega dados do prodes por ano e UF:\n",
    "prodes_terra['uf'] = prodes_terra['state'].map(uf2sigla)\n",
    "agg_prodes = prodes_terra.groupby(['year', 'uf'])['areakm'].sum().reset_index()\n",
    "agg_prodes = agg_prodes.loc[agg_prodes['year'] >= 2016]"
   ]
  },
  {
   "cell_type": "code",
   "execution_count": 156,
   "metadata": {},
   "outputs": [],
   "source": [
    "# Agrega dados do deter por ano e UF:\n",
    "deter_ref['year_prodes'] = deter_ref['year'].str.extract('/(\\d{4})', expand=False).astype(int)\n",
    "agg_deter = deter_ref.groupby(['year_prodes', 'uf'])['area'].sum().reset_index()\n",
    "agg_deter = agg_deter.loc[agg_deter['year_prodes'] <= 2020]\n",
    "#agg_deter = deter_civ.groupby(['year', 'uf'])['area'].sum().reset_index()\n",
    "#agg_deter = agg_deter.loc[agg_deter['year'] <= 2020]"
   ]
  },
  {
   "cell_type": "code",
   "execution_count": 157,
   "metadata": {},
   "outputs": [],
   "source": [
    "# Junta as duas bases:\n",
    "merged = agg_prodes.merge(agg_deter, how='outer', left_on=['year', 'uf'], right_on=['year_prodes', 'uf'])\n",
    "#merged = agg_prodes.merge(agg_deter, how='outer', on=['year', 'uf'])\n",
    "merged['area'].fillna(0, inplace=True)\n",
    "merged['year_prodes'].fillna(merged['year'], inplace=True)\n",
    "merged['year_prodes'] = merged['year_prodes'].astype(int)\n",
    "merged.rename({'area': 'area_deter', 'areakm': 'area_prodes'}, inplace=True, axis=1)\n",
    "merged['diff'] = merged['area_deter'] - merged['area_prodes']\n",
    "merged['frac_diff'] = merged['diff'] / merged['area_prodes']"
   ]
  },
  {
   "cell_type": "code",
   "execution_count": 158,
   "metadata": {},
   "outputs": [
    {
     "data": {
      "image/png": "[encoded data removed]",
      "text/plain": [
       "<Figure size 720x432 with 1 Axes>"
      ]
     },
     "metadata": {
      "needs_background": "light"
     },
     "output_type": "display_data"
    }
   ],
   "source": [
    "pl.figure(figsize=(10,6))\n",
    "ufs = merged['uf'].unique()\n",
    "for uf in ufs:\n",
    "    merged_uf = merged.loc[merged['uf'] == uf]\n",
    "    pl.scatter(merged_uf['area_prodes'], merged_uf['area_deter'], marker='o', alpha=0.5, label=uf)\n",
    "x = [0, 5000]\n",
    "pl.plot(x,x, color='gray', linewidth=1)\n",
    "pl.grid(color='lightgray')\n",
    "pl.xlabel('Área desmatada (Prodes, km2)', fontsize=12)\n",
    "pl.ylabel('Área desmatada (Deter, km2)', fontsize=12)\n",
    "pl.legend()\n",
    "pl.yscale('log')\n",
    "pl.xscale('log')\n",
    "pl.show()"
   ]
  },
  {
   "cell_type": "code",
   "execution_count": 159,
   "metadata": {},
   "outputs": [
    {
     "data": {
      "text/plain": [
       "<AxesSubplot:>"
      ]
     },
     "execution_count": 159,
     "metadata": {},
     "output_type": "execute_result"
    },
    {
     "data": {
      "image/png": "[encoded data removed]",
      "text/plain": [
       "<Figure size 432x288 with 1 Axes>"
      ]
     },
     "metadata": {
      "needs_background": "light"
     },
     "output_type": "display_data"
    }
   ],
   "source": [
    "merged['frac_diff'].hist()"
   ]
  },
  {
   "cell_type": "code",
   "execution_count": 174,
   "metadata": {},
   "outputs": [
    {
     "data": {
      "image/png": "[encoded data removed]",
      "text/plain": [
       "<Figure size 432x288 with 1 Axes>"
      ]
     },
     "metadata": {
      "needs_background": "light"
     },
     "output_type": "display_data"
    }
   ],
   "source": [
    "deter_tab = deter_civ.groupby(['month'])['area'].sum()\n",
    "deter_tab.plot()\n",
    "pl.ylabel('Área desmatada (km2)', fontsize=12)\n",
    "pl.show()"
   ]
  },
  {
   "cell_type": "markdown",
   "metadata": {},
   "source": [
    "### Certificando relação entre ano civil e de referência"
   ]
  },
  {
   "cell_type": "code",
   "execution_count": 13,
   "metadata": {},
   "outputs": [
    {
     "data": {
      "text/plain": [
       "month         True\n",
       "area          True\n",
       "uf           False\n",
       "className     True\n",
       "numPol        True\n",
       "dtype: bool"
      ]
     },
     "execution_count": 13,
     "metadata": {},
     "output_type": "execute_result"
    }
   ],
   "source": [
    "ano_prodes = 2020\n",
    "no_yr_cols = ['month', 'area', 'uf', 'className', 'numPol']\n",
    "sel_civ = deter_civ.loc[((deter_civ['year'] == ano_prodes - 1) & (deter_civ['month'] >= 8)) | ((deter_civ['year'] == ano_prodes) & (deter_civ['month'] < 8)), no_yr_cols]\n",
    "sel_ref = deter_ref.loc[deter_ref['year'] == '{}/{}'.format(ano_prodes - 1, ano_prodes), no_yr_cols]\n",
    "check = (sel_civ == sel_ref)\n",
    "check.all()"
   ]
  },
  {
   "cell_type": "code",
   "execution_count": 14,
   "metadata": {},
   "outputs": [
    {
     "data": {
      "text/html": [
       "<div>\n",
       "<style scoped>\n",
       "    .dataframe tbody tr th:only-of-type {\n",
       "        vertical-align: middle;\n",
       "    }\n",
       "\n",
       "    .dataframe tbody tr th {\n",
       "        vertical-align: top;\n",
       "    }\n",
       "\n",
       "    .dataframe thead th {\n",
       "        text-align: right;\n",
       "    }\n",
       "</style>\n",
       "<table border=\"1\" class=\"dataframe\">\n",
       "  <thead>\n",
       "    <tr style=\"text-align: right;\">\n",
       "      <th></th>\n",
       "      <th>month</th>\n",
       "      <th>area</th>\n",
       "      <th>uf</th>\n",
       "      <th>className</th>\n",
       "      <th>numPol</th>\n",
       "    </tr>\n",
       "  </thead>\n",
       "  <tbody>\n",
       "    <tr>\n",
       "      <th>474</th>\n",
       "      <td>4</td>\n",
       "      <td>0.0</td>\n",
       "      <td>NaN</td>\n",
       "      <td>DESMATAMENTO_VEG</td>\n",
       "      <td>1</td>\n",
       "    </tr>\n",
       "    <tr>\n",
       "      <th>505</th>\n",
       "      <td>3</td>\n",
       "      <td>0.0</td>\n",
       "      <td>NaN</td>\n",
       "      <td>DESMATAMENTO_VEG</td>\n",
       "      <td>3</td>\n",
       "    </tr>\n",
       "    <tr>\n",
       "      <th>543</th>\n",
       "      <td>7</td>\n",
       "      <td>0.0</td>\n",
       "      <td>NaN</td>\n",
       "      <td>DESMATAMENTO_CR</td>\n",
       "      <td>2</td>\n",
       "    </tr>\n",
       "    <tr>\n",
       "      <th>787</th>\n",
       "      <td>6</td>\n",
       "      <td>0.0</td>\n",
       "      <td>NaN</td>\n",
       "      <td>DESMATAMENTO_CR</td>\n",
       "      <td>3</td>\n",
       "    </tr>\n",
       "  </tbody>\n",
       "</table>\n",
       "</div>"
      ],
      "text/plain": [
       "     month  area   uf         className  numPol\n",
       "474      4   0.0  NaN  DESMATAMENTO_VEG       1\n",
       "505      3   0.0  NaN  DESMATAMENTO_VEG       3\n",
       "543      7   0.0  NaN   DESMATAMENTO_CR       2\n",
       "787      6   0.0  NaN   DESMATAMENTO_CR       3"
      ]
     },
     "execution_count": 14,
     "metadata": {},
     "output_type": "execute_result"
    }
   ],
   "source": [
    "sel_ref.loc[check['uf'] == False]"
   ]
  },
  {
   "cell_type": "code",
   "execution_count": 39,
   "metadata": {},
   "outputs": [
    {
     "data": {
      "text/html": [
       "<div>\n",
       "<style scoped>\n",
       "    .dataframe tbody tr th:only-of-type {\n",
       "        vertical-align: middle;\n",
       "    }\n",
       "\n",
       "    .dataframe tbody tr th {\n",
       "        vertical-align: top;\n",
       "    }\n",
       "\n",
       "    .dataframe thead th {\n",
       "        text-align: right;\n",
       "    }\n",
       "</style>\n",
       "<table border=\"1\" class=\"dataframe\">\n",
       "  <thead>\n",
       "    <tr style=\"text-align: right;\">\n",
       "      <th></th>\n",
       "      <th>month</th>\n",
       "      <th>area</th>\n",
       "      <th>uf</th>\n",
       "      <th>className</th>\n",
       "      <th>numPol</th>\n",
       "    </tr>\n",
       "  </thead>\n",
       "  <tbody>\n",
       "    <tr>\n",
       "      <th>474</th>\n",
       "      <td>4</td>\n",
       "      <td>0.0</td>\n",
       "      <td>NaN</td>\n",
       "      <td>DESMATAMENTO_VEG</td>\n",
       "      <td>1</td>\n",
       "    </tr>\n",
       "    <tr>\n",
       "      <th>505</th>\n",
       "      <td>3</td>\n",
       "      <td>0.0</td>\n",
       "      <td>NaN</td>\n",
       "      <td>DESMATAMENTO_VEG</td>\n",
       "      <td>3</td>\n",
       "    </tr>\n",
       "    <tr>\n",
       "      <th>543</th>\n",
       "      <td>7</td>\n",
       "      <td>0.0</td>\n",
       "      <td>NaN</td>\n",
       "      <td>DESMATAMENTO_CR</td>\n",
       "      <td>2</td>\n",
       "    </tr>\n",
       "    <tr>\n",
       "      <th>787</th>\n",
       "      <td>6</td>\n",
       "      <td>0.0</td>\n",
       "      <td>NaN</td>\n",
       "      <td>DESMATAMENTO_CR</td>\n",
       "      <td>3</td>\n",
       "    </tr>\n",
       "  </tbody>\n",
       "</table>\n",
       "</div>"
      ],
      "text/plain": [
       "     month  area   uf         className  numPol\n",
       "474      4   0.0  NaN  DESMATAMENTO_VEG       1\n",
       "505      3   0.0  NaN  DESMATAMENTO_VEG       3\n",
       "543      7   0.0  NaN   DESMATAMENTO_CR       2\n",
       "787      6   0.0  NaN   DESMATAMENTO_CR       3"
      ]
     },
     "execution_count": 39,
     "metadata": {},
     "output_type": "execute_result"
    }
   ],
   "source": [
    "sel_civ.loc[check['uf'] == False]"
   ]
  },
  {
   "cell_type": "markdown",
   "metadata": {},
   "source": [
    "## Shapefiles"
   ]
  },
  {
   "cell_type": "markdown",
   "metadata": {},
   "source": [
    "Esses dados de shapefiles podem ser obtidos no link: <http://www.dpi.inpe.br/obt/deter/dados/> ou neste <http://terrabrasilis.dpi.inpe.br/downloads/>.\n",
    "        \n",
    "Mais informações aqui: <http://www.obt.inpe.br/OBT/assuntos/programas/amazonia/deter/deter>  ou aqui: <http://www.obt.inpe.br/OBT/assuntos/programas/amazonia/prodes/pdfs/Metodologia_Prodes_Deter_revisada.pdf>"
   ]
  },
  {
   "cell_type": "code",
   "execution_count": 1,
   "metadata": {},
   "outputs": [],
   "source": [
    "import geopandas as gp"
   ]
  },
  {
   "cell_type": "code",
   "execution_count": 2,
   "metadata": {},
   "outputs": [],
   "source": [
    "#df = gp.read_file('../dados/brutos/desmatamento/Deter_201711_shp/Deter_201711.shp')\n",
    "df = gp.read_file('../dados/brutos/desmatamento/deter-amz-public-2021jul07/deter_public.shp')"
   ]
  },
  {
   "cell_type": "code",
   "execution_count": 9,
   "metadata": {},
   "outputs": [
    {
     "data": {
      "text/html": [
       "<div>\n",
       "<style scoped>\n",
       "    .dataframe tbody tr th:only-of-type {\n",
       "        vertical-align: middle;\n",
       "    }\n",
       "\n",
       "    .dataframe tbody tr th {\n",
       "        vertical-align: top;\n",
       "    }\n",
       "\n",
       "    .dataframe thead th {\n",
       "        text-align: right;\n",
       "    }\n",
       "</style>\n",
       "<table border=\"1\" class=\"dataframe\">\n",
       "  <thead>\n",
       "    <tr style=\"text-align: right;\">\n",
       "      <th></th>\n",
       "      <th>ano_prodes</th>\n",
       "      <th>area_deter</th>\n",
       "    </tr>\n",
       "  </thead>\n",
       "  <tbody>\n",
       "    <tr>\n",
       "      <th>0</th>\n",
       "      <td>2016</td>\n",
       "      <td>5377.08</td>\n",
       "    </tr>\n",
       "    <tr>\n",
       "      <th>1</th>\n",
       "      <td>2017</td>\n",
       "      <td>4639.37</td>\n",
       "    </tr>\n",
       "    <tr>\n",
       "      <th>2</th>\n",
       "      <td>2018</td>\n",
       "      <td>4570.63</td>\n",
       "    </tr>\n",
       "    <tr>\n",
       "      <th>3</th>\n",
       "      <td>2019</td>\n",
       "      <td>6843.91</td>\n",
       "    </tr>\n",
       "    <tr>\n",
       "      <th>4</th>\n",
       "      <td>2020</td>\n",
       "      <td>9215.88</td>\n",
       "    </tr>\n",
       "    <tr>\n",
       "      <th>5</th>\n",
       "      <td>2021</td>\n",
       "      <td>8792.89</td>\n",
       "    </tr>\n",
       "    <tr>\n",
       "      <th>6</th>\n",
       "      <td>2022</td>\n",
       "      <td>194.94</td>\n",
       "    </tr>\n",
       "  </tbody>\n",
       "</table>\n",
       "</div>"
      ],
      "text/plain": [
       "   ano_prodes  area_deter\n",
       "0        2016     5377.08\n",
       "1        2017     4639.37\n",
       "2        2018     4570.63\n",
       "3        2019     6843.91\n",
       "4        2020     9215.88\n",
       "5        2021     8792.89\n",
       "6        2022      194.94"
      ]
     },
     "execution_count": 9,
     "metadata": {},
     "output_type": "execute_result"
    }
   ],
   "source": [
    "deter_br_agg"
   ]
  },
  {
   "cell_type": "code",
   "execution_count": 7,
   "metadata": {},
   "outputs": [
    {
     "name": "stdout",
     "output_type": "stream",
     "text": [
      "\u001b[1mColunas com valores faltantes:\u001b[0m\n",
      "        coluna         N      %\n",
      "1     QUADRANT  162650.0  76.66\n",
      "7           UC  202265.0  95.33\n",
      "9   MUNICIPALI      12.0   0.01\n",
      "10          UF      12.0   0.01\n"
     ]
    }
   ],
   "source": [
    "xu.checkMissing(df)"
   ]
  },
  {
   "cell_type": "code",
   "execution_count": 13,
   "metadata": {},
   "outputs": [
    {
     "name": "stdout",
     "output_type": "stream",
     "text": [
      "\n",
      "\u001b[1mCLASSNAME: \u001b[0m8 unique values.\n",
      "CICATRIZ_DE_QUEIMADA,  CORTE_SELETIVO,  CS_DESORDENADO,  CS_GEOMETRICO,  DEGRADACAO,  DESMATAMENTO_CR,  DESMATAMENTO_VEG,  MINERACAO\n",
      "\n",
      "\u001b[1mQUADRANT: \u001b[0m5 unique values.\n",
      "A,  B,  C,  D,  None\n",
      "\n",
      "\u001b[1mPATH_ROW: \u001b[0m466 unique values.\n",
      "\u001b[1m(sample) \u001b[0m158111,  160117,  171117,  175117,  177111,  185099,  188105,  219124,  224132,  314082,  314087,  316080,  317088,  320082,  320086,  322088,  323090,  324087,  325079,  327080\n",
      "\n",
      "\u001b[1mVIEW_DATE: \u001b[0m1315 unique values.\n",
      "\u001b[1m(sample) \u001b[0m2016-08-08,  2017-01-15,  2018-06-03,  2018-06-26,  2018-09-14,  2019-04-15,  2019-12-05,  2019-12-18,  2019-12-20,  2020-05-26,  2020-06-04,  2020-07-01,  2020-08-11,  2020-09-10,  2020-09-30,  2021-04-13,  2021-05-16,  2021-05-20,  2021-05-25,  2021-06-07\n",
      "\n",
      "\u001b[1mSENSOR: \u001b[0m3 unique values.\n",
      "AWFI,  AWIFS,  WFI\n",
      "\n",
      "\u001b[1mSATELLITE: \u001b[0m3 unique values.\n",
      "CBERS-4,  CBERS-4A,  RESOURCESAT-2\n",
      "\n",
      "\u001b[1mAREAUCKM: \u001b[0m9872 unique values.\n",
      "\u001b[1m(sample) \u001b[0m0.0626401026028004,  0.0662442088229456,  0.0666624969862401,  0.0823604471017226,  0.0841775688476562,  0.0854493220058382,  0.0956078128738403,  0.0984071120770015,  0.131689233589101,  0.17892866784668,  0.245408002746582,  0.260761495471954,  0.296943401533131,  0.322179419840626,  0.39334153947565,  0.439090107543945,  0.56737859816704,  0.5985418307724,  0.615985097990833,  2.32961972207352\n",
      "\n",
      "\u001b[1mUC: \u001b[0m94 unique values.\n",
      "\u001b[1m(sample) \u001b[0mESTAÃÃO ECOLÃGICA DE CARACARAÃ,  FLORESTA NACIONAL DE JACUNDÃ,  FLORESTA NACIONAL DE RORAIMA,  FLORESTA NACIONAL DE SARACÃ-TAQUERA,  FLORESTA NACIONAL DO AMANA,  FLORESTA NACIONAL DO AMAZONAS,  FLORESTA NACIONAL DO BOM FUTURO,  FLORESTA NACIONAL DO CREPORI,  FLORESTA NACIONAL DO JAMARI,  FLORESTA NACIONAL DO TAPAJÃS,  FLORESTA NACIONAL DO TAPIRAPÃAQUIRI,  FLORESTA NACIONAL DO TRAIRÃO,  PARQUE NACIONAL DO ACARI,  RESERVA BIOLÃGICA DO MANICORÃ,  RESERVA BIOLÃGICA NASCENTES DA SERRA DO CACHIMBO,  RESERVA EXTRATIVISTA DO ALTO JURUÃ,  RESERVA EXTRATIVISTA DO ALTO TARAUACÃ,  RESERVA EXTRATIVISTA DO MÃDIO PURÃS,  RESERVA EXTRATIVISTA ITUXÃ,  RESERVA EXTRATIVISTA RENASCER\n",
      "\n",
      "\u001b[1mAREAMUNKM: \u001b[0m212148 unique values.\n",
      "\u001b[1m(sample) \u001b[0m0.0945237465951592,  0.100283681568116,  0.102565374141037,  0.10957996891281,  0.126108568114519,  0.131328431066467,  0.14579866046983,  0.148368618532828,  0.155724340606291,  0.168268673283058,  0.196703829282314,  0.199759999084473,  0.218000428387415,  0.221333724346697,  0.322701351456137,  0.334361727455132,  0.465228700115826,  0.591074076651394,  0.658559316652267,  2.66843682378532\n",
      "\n",
      "\u001b[1mMUNICIPALI: \u001b[0m574 unique values.\n",
      "\u001b[1m(sample) \u001b[0mAraguaiana,  Arenapolis,  Aripuana,  Bannach,  Careiro,  Duere,  Envira,  Fernando Falcao,  Juscimeira,  Manoel Urbano,  Maurilandia do Tocantins,  Nobres,  Nova EsperanÃ§a do Piria,  Santa Rita,  Santo Afonso,  Sao Felipe D'oeste,  Senador Jose Porfirio,  Terra Santa,  Theobroma,  Ulianopolis\n",
      "\n",
      "\u001b[1mUF: \u001b[0m10 unique values.\n",
      "AC,  AM,  AP,  MA,  MT,  None,  PA,  RO,  RR,  TO\n",
      "\n",
      "\u001b[1mUUID: \u001b[0m211161 unique values.\n",
      "\u001b[1m(sample) \u001b[0m003ea96a-5f06-478a-9142-f61f2784098b,  068f62ab-8a1a-49a8-a2d7-7e3350c21bfe,  26dead0b-b765-4f2a-b439-99d036e49fbc,  2e358e1c-a4b9-470f-80a9-5d9dfe33b832,  378381f6-4e7b-4a69-b316-d487113adf43,  46349e2e-2171-46bb-befa-7ff8c4e659a7,  47759ff0-f925-4885-8b4a-ff939df850c8,  50fcb633-204e-4778-be75-ee2e6275ba75,  6bd4ff04-cff9-43ef-8f42-4d56acde16d0,  7adb424c-672c-45d9-8aa8-87f8ea3a703f,  9ecfd9bc-7269-470a-94b3-f4219ec0ba5d,  a1c7cf12-2b2e-41a6-a6dc-846590ac4e14,  a91f1b8a-b9ba-494c-9afc-af9f94dec9d5,  b3fae39e-420e-4e29-87ca-e14ea7ac3653,  bb40759b-a37d-41cb-9eca-a333e794c9e8,  d0092973-2b9b-4193-a860-6c96f7263797,  d5884bcd-bfd5-4e56-8cc7-469365269be3,  e9945af4-53d0-4a93-8a19-4577ad18dd93,  eb523a99-baf0-4e3c-9bb4-c6f31971959e,  ee8a167e-eb81-47b8-97e3-82323ecb35c1\n"
     ]
    }
   ],
   "source": [
    "xu.mapUnique(df.iloc[:, :-1])"
   ]
  },
  {
   "cell_type": "code",
   "execution_count": null,
   "metadata": {},
   "outputs": [],
   "source": []
  }
 ],
 "metadata": {
  "kernelspec": {
   "display_name": "Python 3",
   "language": "python",
   "name": "python3"
  },
  "language_info": {
   "codemirror_mode": {
    "name": "ipython",
    "version": 3
   },
   "file_extension": ".py",
   "mimetype": "text/x-python",
   "name": "python",
   "nbconvert_exporter": "python",
   "pygments_lexer": "ipython3",
   "version": "3.8.10"
  }
 },
 "nbformat": 4,
 "nbformat_minor": 5
}
